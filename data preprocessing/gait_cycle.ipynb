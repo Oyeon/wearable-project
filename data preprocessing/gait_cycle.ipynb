{
 "cells": [
  {
   "cell_type": "code",
   "execution_count": null,
   "metadata": {},
   "outputs": [],
   "source": [
    "import numpy as np\n",
    "import matplotlib.pyplot as plt\n",
    "from scipy.signal import find_peaks\n",
    "import matplotlib.pyplot as plt"
   ]
  },
  {
   "cell_type": "code",
   "execution_count": null,
   "metadata": {},
   "outputs": [],
   "source": [
    "pred = np.load(\"/Users/ccy/Documents/CMU/Spring2025/42696 Wearable Health Technology/Projects/Milestone2/y_pred_test.npy\")\n",
    "print(pred.shape)\n",
    "print(pred)"
   ]
  },
  {
   "cell_type": "code",
   "execution_count": null,
   "metadata": {},
   "outputs": [],
   "source": [
    "gt = np.load(\"/Users/ccy/Documents/CMU/Spring2025/42696 Wearable Health Technology/Projects/Milestone2/y_test.npy\")\n",
    "print(gt.shape)\n",
    "print(gt)"
   ]
  },
  {
   "cell_type": "code",
   "execution_count": null,
   "metadata": {},
   "outputs": [],
   "source": [
    "y_pred = np.load(\"/Users/ccy/Documents/CMU/Spring2025/42696 Wearable Health Technology/Projects/Milestone2/Prediction/Hip/Running/y_pred_test.npy\")  \n",
    "y_test = np.load(\"/Users/ccy/Documents/CMU/Spring2025/42696 Wearable Health Technology/Projects/Milestone2/Prediction/Hip/Running/y_test.npy\")  \n",
    "\n",
    "# Select a single subject (e.g., index = 0)\n",
    "subject_index = 24\n",
    "subject_data = y_pred[subject_index]  # shape: (3200, 3)\n",
    "\n",
    "# Separate the three joint angles\n",
    "flexion = subject_data[:, 0]  # Flexion/Extension\n",
    "abduction = subject_data[:, 1]  # Abduction/Adduction\n",
    "rotation = subject_data[:, 2]  # Internal/External Rotation\n",
    "\n",
    "# Identify gait cycle (use the minimum value of flexion to mark heel strike)\n",
    "peaks, _ = find_peaks(-flexion, distance=100)  # Take local minima as Heel Strike points\n",
    "\n",
    "# Ensure there are at least two Heel Strike points\n",
    "if len(peaks) < 2:\n",
    "    raise ValueError(\"Not enough gait cycles detected.\")\n",
    "\n",
    "# Take the first two Heel Strike points as gait cycle boundaries\n",
    "gait_cycle_indices = peaks[:2]\n",
    "gait_cycle_range = np.linspace(0, 100, gait_cycle_indices[1] - gait_cycle_indices[0])\n",
    "\n",
    "# Extract data within the gait cycle\n",
    "flexion_gait = flexion[gait_cycle_indices[0]:gait_cycle_indices[1]]\n",
    "abduction_gait = abduction[gait_cycle_indices[0]:gait_cycle_indices[1]]\n",
    "rotation_gait = rotation[gait_cycle_indices[0]:gait_cycle_indices[1]]\n",
    "\n",
    "# Plot the data\n",
    "plt.figure(figsize=(10, 6))\n",
    "plt.plot(gait_cycle_range, flexion_gait, 'r--', label=\"Flexion/Extension\")\n",
    "plt.plot(gait_cycle_range, abduction_gait, 'g--', label=\"Abduction/Adduction\")\n",
    "plt.plot(gait_cycle_range, rotation_gait, 'b--', label=\"Internal/External Rotation\")\n",
    "plt.xlabel(\"Gait Cycle (%)\")\n",
    "plt.ylabel(\"Joint Angle (°)\")\n",
    "plt.legend()\n",
    "plt.title(f\"Gait Cycle Kinematics for Subject {subject_index}\")\n",
    "plt.show()\n",
    "\n"
   ]
  },
  {
   "cell_type": "code",
   "execution_count": null,
   "metadata": {},
   "outputs": [],
   "source": [
    "# Load Ground Truth data\n",
    "subject_test_data = y_test[subject_index]  # shape: (3200, 3)\n",
    "\n",
    "# Extract Ground Truth data within the gait cycle\n",
    "flexion_gait_test = subject_test_data[gait_cycle_indices[0]:gait_cycle_indices[1], 0]\n",
    "abduction_gait_test = subject_test_data[gait_cycle_indices[0]:gait_cycle_indices[1], 1]\n",
    "rotation_gait_test = subject_test_data[gait_cycle_indices[0]:gait_cycle_indices[1], 2]\n",
    "\n",
    "# Set Y-axis range (adjusted based on reference paper figures)\n",
    "flexion_ylim = (-50, 30)\n",
    "abduction_ylim = (-30, 30)\n",
    "rotation_ylim = (-30, 30)\n",
    "\n",
    "# Plot Flexion graph\n",
    "plt.figure(figsize=(6, 4))\n",
    "plt.plot(gait_cycle_range, flexion_gait, 'r--', label=\"Predicted\")\n",
    "plt.plot(gait_cycle_range, flexion_gait_test, 'gray', linewidth=3, label=\"Ground Truth\")\n",
    "plt.xlabel(\"Gait Cycle (%)\")\n",
    "plt.ylabel(\"Ext (-) / Flex (+) (°)\")\n",
    "plt.ylim(flexion_ylim)\n",
    "plt.legend()\n",
    "plt.title(\"Flexion/Extension\")\n",
    "plt.show()\n",
    "\n",
    "# Plot Abduction graph\n",
    "plt.figure(figsize=(6, 4))\n",
    "plt.plot(gait_cycle_range, abduction_gait, 'g--', label=\"Predicted\")\n",
    "plt.plot(gait_cycle_range, abduction_gait_test, 'gray', linewidth=3, label=\"Ground Truth\")\n",
    "plt.xlabel(\"Gait Cycle (%)\")\n",
    "plt.ylabel(\"Abd (-) / Add (+) (°)\")\n",
    "plt.ylim(abduction_ylim)\n",
    "plt.legend()\n",
    "plt.title(\"Abduction/Adduction\")\n",
    "plt.show()\n",
    "\n",
    "# Plot Rotation graph\n",
    "plt.figure(figsize=(6, 4))\n",
    "plt.plot(gait_cycle_range, rotation_gait, 'b--', label=\"Predicted\")\n",
    "plt.plot(gait_cycle_range, rotation_gait_test, 'gray', linewidth=3, label=\"Ground Truth\")\n",
    "plt.xlabel(\"Gait Cycle (%)\")\n",
    "plt.ylabel(\"Ext (-) / Int (+) Rot (°)\")\n",
    "plt.ylim(rotation_ylim)\n",
    "plt.legend()\n",
    "plt.title(\"Internal/External Rotation\")\n",
    "plt.show()"
   ]
  }
 ],
 "metadata": {
  "kernelspec": {
   "display_name": "cmu16824hw1",
   "language": "python",
   "name": "python3"
  },
  "language_info": {
   "name": "python",
   "version": "3.10.14"
  }
 },
 "nbformat": 4,
 "nbformat_minor": 2
}
